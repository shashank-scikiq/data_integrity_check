{
 "cells": [
  {
   "cell_type": "code",
   "execution_count": 1,
   "metadata": {},
   "outputs": [],
   "source": [
    "import pandas as pd\n",
    "import numpy as np"
   ]
  },
  {
   "cell_type": "code",
   "execution_count": 2,
   "metadata": {},
   "outputs": [],
   "source": [
    "df=pd.read_csv(\"data.csv\")"
   ]
  },
  {
   "cell_type": "code",
   "execution_count": 4,
   "metadata": {},
   "outputs": [],
   "source": [
    "import pandas as pd\n",
    "\n",
    "df=pd.read_csv(\"data.csv\")\n",
    "\n",
    "#  code for handling missing values\n",
    "result_series = df.isnull().sum()   \n",
    "result_df = pd.DataFrame(result_series, columns=['Null_Count'])\n",
    "\n",
    "# Handling delivery_pincode\n",
    "df['delivery_pincode'] = df['delivery_pincode'].astype(str)\n",
    "a = df['delivery_pincode'].apply(lambda x: len(x) > 6)\n",
    "pincode_counts_delivery = df[a]['delivery_pincode'].value_counts()\n",
    "result_df_delivery = pd.DataFrame({'Delivery_Pincode': pincode_counts_delivery.index, 'Count': pincode_counts_delivery.values})\n",
    "\n",
    "# Handling seller_pincode\n",
    "df['seller_pincode'] = df['seller_pincode'].astype(str)\n",
    "b = df['seller_pincode'].apply(lambda x: len(x) > 6)\n",
    "pincode_counts = df[b]['seller_pincode'].value_counts()\n",
    "result_df_seller = pd.DataFrame({'Pincode': pincode_counts.index, 'Count': pincode_counts.values})\n",
    "\n",
    "# Saving all DataFrames to a single sheet in an Excel file\n",
    "with pd.ExcelWriter('Errors.xlsx', engine='xlsxwriter') as writer:\n",
    "    result_df.to_excel(writer, sheet_name='Combined', index=True)\n",
    "    result_df_delivery.to_excel(writer, sheet_name='Combined', startcol=result_df.shape[1] + 2, index=False)\n",
    "    result_df_seller.to_excel(writer, sheet_name='Combined', startcol=result_df.shape[1] + 2 + result_df_delivery.shape[1] + 2, index=False)\n"
   ]
  },
  {
   "cell_type": "code",
   "execution_count": null,
   "metadata": {},
   "outputs": [],
   "source": []
  }
 ],
 "metadata": {
  "kernelspec": {
   "display_name": "Python 3",
   "language": "python",
   "name": "python3"
  },
  "language_info": {
   "codemirror_mode": {
    "name": "ipython",
    "version": 3
   },
   "file_extension": ".py",
   "mimetype": "text/x-python",
   "name": "python",
   "nbconvert_exporter": "python",
   "pygments_lexer": "ipython3",
   "version": "3.12.1"
  }
 },
 "nbformat": 4,
 "nbformat_minor": 2
}
