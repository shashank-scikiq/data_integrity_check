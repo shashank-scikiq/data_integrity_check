{
 "cells": [
  {
   "cell_type": "code",
   "execution_count": 13,
   "metadata": {},
   "outputs": [],
   "source": [
    "import pandas as pd\n",
    "\n",
    "class DataProcessor:\n",
    "    def __init__(self, csv_file_path):\n",
    "        self.df = pd.read_csv(csv_file_path)\n",
    "\n",
    "    def handle_missing_values(self):\n",
    "        result_series = self.df.isnull().sum()\n",
    "        result_df = pd.DataFrame(result_series, columns=['Null_Count'])\n",
    "        result_df['Column_Name'] = result_series.index  # Add column names to the DataFrame\n",
    "        return result_df\n",
    "\n",
    "    def handle_delivery_pincode(self):\n",
    "        self.df['delivery_pincode'] = self.df['delivery_pincode'].astype(str)\n",
    "        a = self.df['delivery_pincode'].apply(lambda x: len(x) > 6)\n",
    "        pincode_counts_delivery = self.df[a]['delivery_pincode'].value_counts()\n",
    "        result_df_delivery = pd.DataFrame({'Delivery_Pincode': pincode_counts_delivery.index, 'Count': pincode_counts_delivery.values})\n",
    "        return result_df_delivery\n",
    "\n",
    "    def handle_seller_pincode(self):\n",
    "        self.df['seller_pincode'] = self.df['seller_pincode'].astype(str)\n",
    "        b = self.df['seller_pincode'].apply(lambda x: len(x) > 6)\n",
    "        pincode_counts = self.df[b]['seller_pincode'].value_counts()\n",
    "        result_df_seller = pd.DataFrame({'Pincode': pincode_counts.index, 'Count': pincode_counts.values})\n",
    "        return result_df_seller\n",
    "\n",
    "    def save_to_excel(self, result_df, result_df_delivery, result_df_seller, output_file):\n",
    "        with pd.ExcelWriter(output_file, engine='xlsxwriter') as writer:\n",
    "            # Null_Count table\n",
    "            result_df.to_excel(writer, sheet_name='Combined', index=False, startrow=1, startcol=0)\n",
    "            worksheet = writer.sheets['Combined']\n",
    "            worksheet.write(0, 0, 'Null Values Table', writer.book.add_format({'bold': True}))\n",
    "            \n",
    "            # Delivery_Pincode table\n",
    "            result_df_delivery.to_excel(writer, sheet_name='Combined', startrow=result_df.shape[0] + 6, startcol=0, index=False, header=['Delivery_Pincode', 'Count'])\n",
    "            worksheet.write(result_df.shape[0] + 5, 0, 'Delivery Pincode Table', writer.book.add_format({'bold': True}))\n",
    "\n",
    "            # Seller_Pincode table\n",
    "            result_df_seller.to_excel(writer, sheet_name='Combined', startrow=result_df.shape[0] + result_df_delivery.shape[0] + 9, startcol=0, index=False, header=['Pincode', 'Count'])\n",
    "            worksheet.write(result_df.shape[0] + result_df_delivery.shape[0] + 8, 0, 'Seller Pincode Table', writer.book.add_format({'bold': True}))\n",
    "\n",
    "# Example usage:\n",
    "csv_file_path = \"data.csv\"\n",
    "output_file = \"output_combined.xlsx\"\n",
    "\n",
    "data_processor = DataProcessor(csv_file_path)\n",
    "result_df = data_processor.handle_missing_values()\n",
    "result_df_delivery = data_processor.handle_delivery_pincode()\n",
    "result_df_seller = data_processor.handle_seller_pincode()\n",
    "data_processor.save_to_excel(result_df, result_df_delivery, result_df_seller, output_file)\n"
   ]
  }
 ],
 "metadata": {
  "kernelspec": {
   "display_name": "Python 3",
   "language": "python",
   "name": "python3"
  },
  "language_info": {
   "codemirror_mode": {
    "name": "ipython",
    "version": 3
   },
   "file_extension": ".py",
   "mimetype": "text/x-python",
   "name": "python",
   "nbconvert_exporter": "python",
   "pygments_lexer": "ipython3",
   "version": "3.12.1"
  }
 },
 "nbformat": 4,
 "nbformat_minor": 2
}
